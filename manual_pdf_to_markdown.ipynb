{
 "cells": [
  {
   "cell_type": "code",
   "execution_count": 1,
   "metadata": {},
   "outputs": [],
   "source": [
    "from pdfminer.high_level import extract_text\n",
    "import json\n",
    "\n",
    "# convert pdf to text and split by line breaks.\n",
    "\n",
    "text = extract_text(\"20160920 Fiaf Manual-WEB.pdf\")\n",
    "segments = [x.strip() for x in text.split('\\n')]\n",
    "\n",
    "# try and identify page numbers.\n",
    "\n",
    "pages = {}\n",
    "for x in range(1, 400):\n",
    "    indexes = [i for i, y in enumerate(segments) if y == str(x)]\n",
    "    pages[x] = indexes\n",
    "\n",
    "# clean up multiple candidates for page numbers via closest to previous page.\n",
    "\n",
    "pages = {k:v for k, v in reversed(pages.items()) if len(v)}\n",
    "current_page = 999999\n",
    "for k,v in pages.items():\n",
    "    closest = min(v, key=lambda x: abs(x-current_page))\n",
    "    pages[k] = [closest]\n",
    "    current_page = closest\n",
    "\n",
    "pages = {k:v for k, v in reversed(pages.items()) if len(v)}\n",
    "\n",
    "# print(json.dumps(pages, indent=4))\n"
   ]
  }
 ],
 "metadata": {
  "kernelspec": {
   "display_name": "Python 3",
   "language": "python",
   "name": "python3"
  },
  "language_info": {
   "codemirror_mode": {
    "name": "ipython",
    "version": 3
   },
   "file_extension": ".py",
   "mimetype": "text/x-python",
   "name": "python",
   "nbconvert_exporter": "python",
   "pygments_lexer": "ipython3",
   "version": "3.10.12"
  },
  "orig_nbformat": 4
 },
 "nbformat": 4,
 "nbformat_minor": 2
}
